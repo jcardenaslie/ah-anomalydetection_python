{
 "cells": [
  {
   "cell_type": "code",
   "execution_count": 1,
   "metadata": {},
   "outputs": [
    {
     "name": "stderr",
     "output_type": "stream",
     "text": [
      "C:\\ProgramData\\Anaconda3\\lib\\site-packages\\h5py\\__init__.py:36: FutureWarning: Conversion of the second argument of issubdtype from `float` to `np.floating` is deprecated. In future, it will be treated as `np.float64 == np.dtype(float).type`.\n",
      "  from ._conv import register_converters as _register_converters\n",
      "Using TensorFlow backend.\n"
     ]
    }
   ],
   "source": [
    "# import all libraries\n",
    "import keras\n",
    "from keras.models import Sequential\n",
    "from keras.layers import Dense, Activation, Dropout\n",
    "from keras.layers.convolutional import Conv1D\n",
    "from keras.preprocessing.sequence import pad_sequences\n",
    "import pandas as pd\n",
    "import numpy as np\n",
    "import spacy"
   ]
  },
  {
   "cell_type": "code",
   "execution_count": 2,
   "metadata": {},
   "outputs": [],
   "source": [
    "nlp=spacy.load(\"en\")\n",
    "\n",
    "#load the dataset\n",
    "train = pd.read_csv(\"../Datos/training.1600000.processed.noemoticon.csv\" , encoding= \"latin-1\")"
   ]
  },
  {
   "cell_type": "code",
   "execution_count": 3,
   "metadata": {},
   "outputs": [
    {
     "name": "stdout",
     "output_type": "stream",
     "text": [
      "(19999, 6)\n",
      "<class 'pandas.core.frame.DataFrame'>\n"
     ]
    }
   ],
   "source": [
    "print(train.shape)\n",
    "print(type(train))"
   ]
  },
  {
   "cell_type": "code",
   "execution_count": 4,
   "metadata": {},
   "outputs": [],
   "source": [
    "Y_train = train[train.columns[0]]\n",
    "X_train = train[train.columns[5]]\n",
    "\n",
    "# split the data into test and train\n",
    "from sklearn.model_selection import train_test_split\n",
    "trainset1x, trainset2x, trainset1y, trainset2y = train_test_split(X_train.values, Y_train.values, test_size=0.02,random_state=42 )\n",
    "trainset2y=pd.get_dummies(trainset2y)"
   ]
  },
  {
   "cell_type": "code",
   "execution_count": 5,
   "metadata": {},
   "outputs": [
    {
     "name": "stdout",
     "output_type": "stream",
     "text": [
      "(19599,) (400,) (19599,) (400, 2)\n",
      "<class 'numpy.ndarray'> <class 'numpy.ndarray'> <class 'numpy.ndarray'> <class 'pandas.core.frame.DataFrame'>\n"
     ]
    }
   ],
   "source": [
    "print(trainset1x.shape, trainset2x.shape, trainset1y.shape, trainset2y.shape)\n",
    "print(type(trainset1x),type(trainset2x),type(trainset1y),type(trainset2y))"
   ]
  },
  {
   "cell_type": "code",
   "execution_count": 6,
   "metadata": {},
   "outputs": [],
   "source": [
    "# function to remove stopwords\n",
    "def stopwords(sentence):\n",
    "    new=[]\n",
    "    sentence=nlp(sentence)\n",
    "    for w in sentence:\n",
    "        if (w.is_stop == False) & (w.pos_ !=\"PUNCT\"):\n",
    "            new.append(w.string.strip())\n",
    "        c=\" \".join(str(x) for x in new)\n",
    "    return c\n",
    "\n",
    "# function to lemmatize the tweets\n",
    "def lemmatize(sentence):\n",
    "    sentence=nlp(sentence)\n",
    "    str=\"\"\n",
    "    for w in sentence:\n",
    "        str+=\" \"+w.lemma_\n",
    "    return nlp(str)\n",
    "\n",
    "#loading the glove model\n",
    "def loadGloveModel(gloveFile):\n",
    "    print(\"Loading Glove Model\")\n",
    "    f = open(gloveFile,'r', encoding=\"utf8\")\n",
    "    model = {}\n",
    "    for line in f:\n",
    "        splitLine = line.split()\n",
    "        word = splitLine[0]\n",
    "        embedding = [float(val) for val in splitLine[1:]]\n",
    "        model[word] = embedding\n",
    "    print (\"Done.\"),len(model),(\" words loaded!\")\n",
    "    return model\n",
    "\n",
    "#vectorising the sentences\n",
    "def sent_vectorizer(sent, model):\n",
    "    sent_vec = np.zeros(200)\n",
    "    numw = 0\n",
    "    for w in sent.split():\n",
    "        try:\n",
    "            sent_vec = np.add(sent_vec, model[str(w)])\n",
    "            numw+=1\n",
    "        except:\n",
    "            pass\n",
    "    return sent_vec"
   ]
  },
  {
   "cell_type": "code",
   "execution_count": 7,
   "metadata": {},
   "outputs": [
    {
     "name": "stdout",
     "output_type": "stream",
     "text": [
      "Loading Glove Model\n",
      "Done.\n"
     ]
    }
   ],
   "source": [
    "# save the glove model\n",
    "model=loadGloveModel(\"C:\\\\Users\\\\jquin\\\\Downloads\\\\glove.twitter.27B\\\\glove.twitter.27B.200d.txt\")\n"
   ]
  },
  {
   "cell_type": "code",
   "execution_count": 8,
   "metadata": {},
   "outputs": [
    {
     "name": "stdout",
     "output_type": "stream",
     "text": [
      "<class 'dict'>\n"
     ]
    }
   ],
   "source": [
    "print(type(model))"
   ]
  },
  {
   "cell_type": "code",
   "execution_count": 9,
   "metadata": {},
   "outputs": [
    {
     "name": "stdout",
     "output_type": "stream",
     "text": [
      "Found 1873 unique tokens.\n",
      "(400, 15)\n"
     ]
    }
   ],
   "source": [
    "#obtain a clean vector\n",
    "cleanvector=[]\n",
    "\n",
    "# cleaning document i (tweet(?))\n",
    "for i in range(trainset2x.shape[0]):\n",
    "    document=trainset2x[i]\n",
    "    document=document.lower()\n",
    "    document=lemmatize(document)\n",
    "    document=str(document)\n",
    "    cleanvector.append(sent_vectorizer(document,model))\n",
    "\n",
    "#Getting the input and output in proper shape\n",
    "cleanvector=np.array(cleanvector)\n",
    "cleanvector =cleanvector.reshape(len(cleanvector),200,1)\n",
    "\n",
    "from keras.preprocessing.text import Tokenizer\n",
    "#tokenizing the sequences\n",
    "tokenizer = Tokenizer(num_words=16000)\n",
    "tokenizer.fit_on_texts(trainset2x)\n",
    "sequences = tokenizer.texts_to_sequences(trainset2x)\n",
    "word_index = tokenizer.word_index\n",
    "print('Found %s unique tokens.' % len(word_index))\n",
    "\n",
    "from keras.preprocessing.sequence import pad_sequences\n",
    "data = pad_sequences(sequences, maxlen=15, padding=\"post\")\n",
    "print(data.shape)\n",
    "\n",
    "#reshape the data and preparing to train\n",
    "data=data.reshape(len(cleanvector),15,1)\n",
    "from sklearn.model_selection import train_test_split\n",
    "trainx, validx, trainy, validy = train_test_split(data, trainset2y, test_size=0.3,random_state=42 )"
   ]
  },
  {
   "cell_type": "code",
   "execution_count": 10,
   "metadata": {},
   "outputs": [
    {
     "name": "stdout",
     "output_type": "stream",
     "text": [
      "Null word embeddings: 346\n"
     ]
    }
   ],
   "source": [
    "#calculate the number of words\n",
    "nb_words=len(tokenizer.word_index)+1\n",
    "\n",
    "#obtain theembedding matrix\n",
    "embedding_matrix = np.zeros((nb_words, 200))\n",
    "for word, i in word_index.items():\n",
    "    embedding_vector = model.get(word)\n",
    "    if embedding_vector is not None:\n",
    "        embedding_matrix[i] = embedding_vector\n",
    "print('Null word embeddings: %d' % np.sum(np.sum(embedding_matrix, axis=1) == 0))\n",
    "\n",
    "trainy=np.array(trainy)\n",
    "validy=np.array(validy)"
   ]
  },
  {
   "cell_type": "code",
   "execution_count": 11,
   "metadata": {},
   "outputs": [
    {
     "name": "stdout",
     "output_type": "stream",
     "text": [
      "1874\n"
     ]
    }
   ],
   "source": [
    "print(nb_words)"
   ]
  },
  {
   "cell_type": "code",
   "execution_count": 12,
   "metadata": {},
   "outputs": [
    {
     "name": "stdout",
     "output_type": "stream",
     "text": [
      "<class 'numpy.ndarray'>\n",
      "<class 'numpy.ndarray'>\n",
      "(280, 15, 1)\n",
      "(280, 2)\n"
     ]
    }
   ],
   "source": [
    "print(type(trainx))\n",
    "print(type(trainy))\n",
    "print(trainx.shape)\n",
    "print(trainy.shape)"
   ]
  },
  {
   "cell_type": "code",
   "execution_count": 15,
   "metadata": {},
   "outputs": [],
   "source": [
    "#"
   ]
  },
  {
   "cell_type": "code",
   "execution_count": 14,
   "metadata": {},
   "outputs": [
    {
     "name": "stdout",
     "output_type": "stream",
     "text": [
      "Train on 280 samples, validate on 120 samples\n",
      "Epoch 1/10\n",
      "280/280 [==============================] - ETA: 1s - loss: 0.8709 - acc: 0.541 - 1s 4ms/step - loss: 2.5761 - acc: 0.5036 - val_loss: 0.7158 - val_acc: 0.5583\n",
      "Epoch 2/10\n",
      "280/280 [==============================] - ETA: 0s - loss: 0.7112 - acc: 0.525 - 0s 350us/step - loss: 1.3257 - acc: 0.5107 - val_loss: 1.3888 - val_acc: 0.5083\n",
      "Epoch 3/10\n",
      "280/280 [==============================] - ETA: 0s - loss: 1.3898 - acc: 0.508 - 0s 339us/step - loss: 1.0610 - acc: 0.5286 - val_loss: 0.9796 - val_acc: 0.4917\n",
      "Epoch 4/10\n",
      "280/280 [==============================] - ETA: 0s - loss: 0.9610 - acc: 0.475 - 0s 357us/step - loss: 0.9769 - acc: 0.4679 - val_loss: 0.7156 - val_acc: 0.5000\n",
      "Epoch 5/10\n",
      "280/280 [==============================] - ETA: 0s - loss: 0.7113 - acc: 0.500 - 0s 350us/step - loss: 0.6996 - acc: 0.5357 - val_loss: 0.8022 - val_acc: 0.5083\n",
      "Epoch 6/10\n",
      "280/280 [==============================] - ETA: 0s - loss: 0.7748 - acc: 0.500 - 0s 346us/step - loss: 0.7433 - acc: 0.5286 - val_loss: 0.7303 - val_acc: 0.5000\n",
      "Epoch 7/10\n",
      "280/280 [==============================] - ETA: 0s - loss: 0.6935 - acc: 0.533 - 0s 453us/step - loss: 0.6733 - acc: 0.5643 - val_loss: 0.7203 - val_acc: 0.4917\n",
      "Epoch 8/10\n",
      "280/280 [==============================] - ETA: 0s - loss: 0.6722 - acc: 0.550 - ETA: 0s - loss: 0.6639 - acc: 0.583 - 0s 460us/step - loss: 0.6646 - acc: 0.5714 - val_loss: 0.7153 - val_acc: 0.4667\n",
      "Epoch 9/10\n",
      "280/280 [==============================] - ETA: 0s - loss: 0.6465 - acc: 0.641 - 0s 418us/step - loss: 0.6395 - acc: 0.6536 - val_loss: 0.7184 - val_acc: 0.5250\n",
      "Epoch 10/10\n",
      "280/280 [==============================] - ETA: 0s - loss: 0.6114 - acc: 0.700 - 0s 393us/step - loss: 0.6298 - acc: 0.6321 - val_loss: 0.7250 - val_acc: 0.5250\n"
     ]
    },
    {
     "data": {
      "text/plain": [
       "<keras.callbacks.History at 0x1db7b376ba8>"
      ]
     },
     "execution_count": 14,
     "metadata": {},
     "output_type": "execute_result"
    }
   ],
   "source": [
    "#building a simple RNN model\n",
    "def modelbuild():\n",
    "    model = Sequential()\n",
    "    model.add(keras.layers.InputLayer(input_shape=(15,1)))\n",
    "    keras.layers.embeddings.Embedding(nb_words, 15, weights=[embedding_matrix], input_length=15,\n",
    "    trainable=False)\n",
    " \n",
    "    model.add(keras.layers.recurrent.SimpleRNN(units = 100, activation='relu',\n",
    "    use_bias=True))\n",
    "    model.add(keras.layers.Dense(units=1000, input_dim = 2000, activation='sigmoid'))\n",
    "    model.add(keras.layers.Dense(units=500, input_dim=1000, activation='relu'))\n",
    "    model.add(keras.layers.Dense(units=2, input_dim=500,activation='softmax'))\n",
    "    model.compile(loss='categorical_crossentropy', optimizer='adam', metrics=['accuracy'])\n",
    "    return model\n",
    "   \n",
    "#compiling the model\n",
    "finalmodel = modelbuild()\n",
    "finalmodel.fit(trainx, trainy, epochs=10, batch_size=120,validation_data=(validx,validy))"
   ]
  }
 ],
 "metadata": {
  "kernelspec": {
   "display_name": "Python 3",
   "language": "python",
   "name": "python3"
  },
  "language_info": {
   "codemirror_mode": {
    "name": "ipython",
    "version": 3
   },
   "file_extension": ".py",
   "mimetype": "text/x-python",
   "name": "python",
   "nbconvert_exporter": "python",
   "pygments_lexer": "ipython3",
   "version": "3.6.4"
  }
 },
 "nbformat": 4,
 "nbformat_minor": 2
}
