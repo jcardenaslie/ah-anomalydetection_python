{
 "cells": [
  {
   "cell_type": "code",
   "execution_count": 1,
   "metadata": {},
   "outputs": [
    {
     "name": "stderr",
     "output_type": "stream",
     "text": [
      "Using TensorFlow backend.\n"
     ]
    }
   ],
   "source": [
    "# import all libraries\n",
    "import keras\n",
    "from keras.models import Sequential\n",
    "from keras.layers import Dense, Activation, Dropout\n",
    "from keras.layers.convolutional import Conv1D\n",
    "from keras.preprocessing.text import Tokenizer\n",
    "from keras.preprocessing.sequence import pad_sequences\n",
    "import pandas as pd\n",
    "import numpy as np\n",
    "import spacy"
   ]
  },
  {
   "cell_type": "code",
   "execution_count": null,
   "metadata": {
    "collapsed": true
   },
   "outputs": [],
   "source": [
    "nlp=spacy.load(\"en\")\n",
    "\n",
    "#load the dataset\n",
    "train=pd.read_csv(\"../Datos/training.1600000.processed.noemoticon.csv\" , encoding= \"latin-1\")\n",
    "Y_train = train[train.columns[0]]\n",
    "X_train = train[train.columns[5]]"
   ]
  },
  {
   "cell_type": "code",
   "execution_count": 14,
   "metadata": {},
   "outputs": [
    {
     "data": {
      "text/html": [
       "<div>\n",
       "<style>\n",
       "    .dataframe thead tr:only-child th {\n",
       "        text-align: right;\n",
       "    }\n",
       "\n",
       "    .dataframe thead th {\n",
       "        text-align: left;\n",
       "    }\n",
       "\n",
       "    .dataframe tbody tr th {\n",
       "        vertical-align: top;\n",
       "    }\n",
       "</style>\n",
       "<table border=\"1\" class=\"dataframe\">\n",
       "  <thead>\n",
       "    <tr style=\"text-align: right;\">\n",
       "      <th></th>\n",
       "      <th>0</th>\n",
       "      <th>1467810369</th>\n",
       "      <th>Mon Apr 06 22:19:45 PDT 2009</th>\n",
       "      <th>NO_QUERY</th>\n",
       "      <th>_TheSpecialOne_</th>\n",
       "      <th>@switchfoot http://twitpic.com/2y1zl - Awww, that's a bummer.  You shoulda got David Carr of Third Day to do it. ;D</th>\n",
       "    </tr>\n",
       "  </thead>\n",
       "  <tbody>\n",
       "    <tr>\n",
       "      <th>0</th>\n",
       "      <td>0</td>\n",
       "      <td>1467810672</td>\n",
       "      <td>Mon Apr 06 22:19:49 PDT 2009</td>\n",
       "      <td>NO_QUERY</td>\n",
       "      <td>scotthamilton</td>\n",
       "      <td>is upset that he can't update his Facebook by ...</td>\n",
       "    </tr>\n",
       "    <tr>\n",
       "      <th>1</th>\n",
       "      <td>0</td>\n",
       "      <td>1467810917</td>\n",
       "      <td>Mon Apr 06 22:19:53 PDT 2009</td>\n",
       "      <td>NO_QUERY</td>\n",
       "      <td>mattycus</td>\n",
       "      <td>@Kenichan I dived many times for the ball. Man...</td>\n",
       "    </tr>\n",
       "    <tr>\n",
       "      <th>2</th>\n",
       "      <td>0</td>\n",
       "      <td>1467811184</td>\n",
       "      <td>Mon Apr 06 22:19:57 PDT 2009</td>\n",
       "      <td>NO_QUERY</td>\n",
       "      <td>ElleCTF</td>\n",
       "      <td>my whole body feels itchy and like its on fire</td>\n",
       "    </tr>\n",
       "    <tr>\n",
       "      <th>3</th>\n",
       "      <td>0</td>\n",
       "      <td>1467811193</td>\n",
       "      <td>Mon Apr 06 22:19:57 PDT 2009</td>\n",
       "      <td>NO_QUERY</td>\n",
       "      <td>Karoli</td>\n",
       "      <td>@nationwideclass no, it's not behaving at all....</td>\n",
       "    </tr>\n",
       "    <tr>\n",
       "      <th>4</th>\n",
       "      <td>0</td>\n",
       "      <td>1467811372</td>\n",
       "      <td>Mon Apr 06 22:20:00 PDT 2009</td>\n",
       "      <td>NO_QUERY</td>\n",
       "      <td>joy_wolf</td>\n",
       "      <td>@Kwesidei not the whole crew</td>\n",
       "    </tr>\n",
       "  </tbody>\n",
       "</table>\n",
       "</div>"
      ],
      "text/plain": [
       "   0  1467810369  Mon Apr 06 22:19:45 PDT 2009  NO_QUERY _TheSpecialOne_  \\\n",
       "0  0  1467810672  Mon Apr 06 22:19:49 PDT 2009  NO_QUERY   scotthamilton   \n",
       "1  0  1467810917  Mon Apr 06 22:19:53 PDT 2009  NO_QUERY        mattycus   \n",
       "2  0  1467811184  Mon Apr 06 22:19:57 PDT 2009  NO_QUERY         ElleCTF   \n",
       "3  0  1467811193  Mon Apr 06 22:19:57 PDT 2009  NO_QUERY          Karoli   \n",
       "4  0  1467811372  Mon Apr 06 22:20:00 PDT 2009  NO_QUERY        joy_wolf   \n",
       "\n",
       "  @switchfoot http://twitpic.com/2y1zl - Awww, that's a bummer.  You shoulda got David Carr of Third Day to do it. ;D  \n",
       "0  is upset that he can't update his Facebook by ...                                                                   \n",
       "1  @Kenichan I dived many times for the ball. Man...                                                                   \n",
       "2    my whole body feels itchy and like its on fire                                                                    \n",
       "3  @nationwideclass no, it's not behaving at all....                                                                   \n",
       "4                      @Kwesidei not the whole crew                                                                    "
      ]
     },
     "execution_count": 14,
     "metadata": {},
     "output_type": "execute_result"
    }
   ],
   "source": [
    "train.head()"
   ]
  },
  {
   "cell_type": "code",
   "execution_count": 12,
   "metadata": {},
   "outputs": [
    {
     "data": {
      "text/plain": [
       "count    19999.00000\n",
       "mean         2.00030\n",
       "std          2.00005\n",
       "min          0.00000\n",
       "25%          0.00000\n",
       "50%          4.00000\n",
       "75%          4.00000\n",
       "max          4.00000\n",
       "Name: 0, dtype: float64"
      ]
     },
     "execution_count": 12,
     "metadata": {},
     "output_type": "execute_result"
    }
   ],
   "source": [
    "Y_train.describe()"
   ]
  },
  {
   "cell_type": "code",
   "execution_count": 13,
   "metadata": {},
   "outputs": [
    {
     "data": {
      "text/plain": [
       "0    is upset that he can't update his Facebook by ...\n",
       "1    @Kenichan I dived many times for the ball. Man...\n",
       "2      my whole body feels itchy and like its on fire \n",
       "3    @nationwideclass no, it's not behaving at all....\n",
       "4                        @Kwesidei not the whole crew \n",
       "Name: @switchfoot http://twitpic.com/2y1zl - Awww, that's a bummer.  You shoulda got David Carr of Third Day to do it. ;D, dtype: object"
      ]
     },
     "execution_count": 13,
     "metadata": {},
     "output_type": "execute_result"
    }
   ],
   "source": [
    "X_train.head()"
   ]
  },
  {
   "cell_type": "code",
   "execution_count": 2,
   "metadata": {
    "collapsed": true
   },
   "outputs": [],
   "source": [
    "# split the data into test and train\n",
    "from sklearn.model_selection import train_test_split\n",
    "trainset1x, trainset2x, trainset1y, trainset2y = train_test_split(X_train.values, Y_train.values, test_size=0.02,random_state=42 )\n",
    "trainset2y=pd.get_dummies(trainset2y)"
   ]
  },
  {
   "cell_type": "code",
   "execution_count": 3,
   "metadata": {},
   "outputs": [
    {
     "name": "stdout",
     "output_type": "stream",
     "text": [
      "Loading Glove Model\n",
      "Done.\n"
     ]
    }
   ],
   "source": [
    "# function to remove stopwords\n",
    "def stopwords(sentence):\n",
    "    new=[]\n",
    "    sentence=nlp(sentence)\n",
    "    for w in sentence:\n",
    "        if (w.is_stop == False) & (w.pos_ !=\"PUNCT\"):\n",
    "            new.append(w.string.strip())\n",
    "        c=\" \".join(str(x) for x in new)\n",
    "    return c\n",
    "\n",
    "# function to lemmatize the tweets\n",
    "def lemmatize(sentence):\n",
    "    sentence=nlp(sentence)\n",
    "    str=\"\"\n",
    "    for w in sentence:\n",
    "        str+=\" \"+w.lemma_\n",
    "    return nlp(str)\n",
    "\n",
    "#loading the glove model\n",
    "def loadGloveModel(gloveFile):\n",
    "    print(\"Loading Glove Model\")\n",
    "    f = open(gloveFile,'r', encoding=\"utf8\")\n",
    "    model = {}\n",
    "    for line in f:\n",
    "        splitLine = line.split()\n",
    "        word = splitLine[0]\n",
    "        embedding = [float(val) for val in splitLine[1:]]\n",
    "        model[word] = embedding\n",
    "    print (\"Done.\"),len(model),(\" words loaded!\")\n",
    "    return model\n",
    "\n",
    "# save the glove model\n",
    "# model=loadGloveModel(\"C:\\\\Users\\\\jquin\\\\Downloads\\\\glove.twitter.27B\\\\glove.twitter.27B.200d.txt\")\n",
    "model=loadGloveModel(\"C:\\\\Users\\\\joaquin\\\\Downloads\\\\glove.twitter.27B\\\\glove.twitter.27B.200d.txt\")\n",
    "\n",
    "#vectorising the sentences\n",
    "def sent_vectorizer(sent, model):\n",
    "    sent_vec = np.zeros(200)\n",
    "    numw = 0\n",
    "    for w in sent.split():\n",
    "        try:\n",
    "            sent_vec = np.add(sent_vec, model[str(w)])\n",
    "            numw+=1\n",
    "        except:\n",
    "            pass\n",
    "    return sent_vec"
   ]
  },
  {
   "cell_type": "code",
   "execution_count": 5,
   "metadata": {},
   "outputs": [
    {
     "name": "stdout",
     "output_type": "stream",
     "text": [
      "Found 1873 unique tokens.\n",
      "(400, 15)\n"
     ]
    }
   ],
   "source": [
    "#obtain a clean vector\n",
    "cleanvector=[]\n",
    "for i in range(trainset2x.shape[0]):\n",
    "    document=trainset2x[i]\n",
    "    document=document.lower()\n",
    "    document=lemmatize(document)\n",
    "    document=str(document)\n",
    "    cleanvector.append(sent_vectorizer(document,model))\n",
    "\n",
    "#Getting the input and output in proper shape\n",
    "cleanvector=np.array(cleanvector)\n",
    "cleanvector =cleanvector.reshape(len(cleanvector),200,1)\n",
    "\n",
    "#tokenizing the sequences\n",
    "tokenizer = Tokenizer(num_words=16000)\n",
    "tokenizer.fit_on_texts(trainset2x)\n",
    "sequences = tokenizer.texts_to_sequences(trainset2x)\n",
    "word_index = tokenizer.word_index\n",
    "print('Found %s unique tokens.' % len(word_index))\n",
    "data = pad_sequences(sequences, maxlen=15, padding=\"post\")\n",
    "print(data.shape)\n",
    "\n",
    "#reshape the data and preparing to train\n",
    "data=data.reshape(len(cleanvector),15,1)\n",
    "from sklearn.model_selection import train_test_split\n",
    "trainx, validx, trainy, validy = train_test_split(data, trainset2y, test_size=0.3,random_state=42 )"
   ]
  },
  {
   "cell_type": "code",
   "execution_count": 6,
   "metadata": {},
   "outputs": [
    {
     "name": "stdout",
     "output_type": "stream",
     "text": [
      "Null word embeddings: 346\n",
      "Train on 280 samples, validate on 120 samples\n",
      "Epoch 1/10\n",
      "280/280 [==============================] - ETA: 0s - loss: 0.7739 - acc: 0.550 - 1s 2ms/step - loss: 2.5768 - acc: 0.5071 - val_loss: 1.7376 - val_acc: 0.5083\n",
      "Epoch 2/10\n",
      "280/280 [==============================] - ETA: 0s - loss: 1.6389 - acc: 0.541 - 0s 321us/step - loss: 1.7458 - acc: 0.5321 - val_loss: 0.7153 - val_acc: 0.5250\n",
      "Epoch 3/10\n",
      "280/280 [==============================] - ETA: 0s - loss: 0.6760 - acc: 0.600 - 0s 318us/step - loss: 0.7930 - acc: 0.5393 - val_loss: 0.9624 - val_acc: 0.4917\n",
      "Epoch 4/10\n",
      "280/280 [==============================] - ETA: 0s - loss: 0.9138 - acc: 0.500 - 0s 371us/step - loss: 0.8179 - acc: 0.4643 - val_loss: 0.8018 - val_acc: 0.5083\n",
      "Epoch 5/10\n",
      "280/280 [==============================] - ETA: 0s - loss: 0.7377 - acc: 0.558 - 0s 325us/step - loss: 0.7863 - acc: 0.5321 - val_loss: 0.7600 - val_acc: 0.5083\n",
      "Epoch 6/10\n",
      "280/280 [==============================] - ETA: 0s - loss: 0.6975 - acc: 0.550 - 0s 214us/step - loss: 0.6720 - acc: 0.5786 - val_loss: 0.7457 - val_acc: 0.5000\n",
      "Epoch 7/10\n",
      "280/280 [==============================] - ETA: 0s - loss: 0.7103 - acc: 0.491 - 0s 196us/step - loss: 0.6889 - acc: 0.5214 - val_loss: 0.7040 - val_acc: 0.5500\n",
      "Epoch 8/10\n",
      "280/280 [==============================] - ETA: 0s - loss: 0.6428 - acc: 0.666 - 0s 196us/step - loss: 0.6412 - acc: 0.6393 - val_loss: 0.7316 - val_acc: 0.5083\n",
      "Epoch 9/10\n",
      "280/280 [==============================] - ETA: 0s - loss: 0.6632 - acc: 0.533 - 0s 293us/step - loss: 0.6280 - acc: 0.6214 - val_loss: 0.7178 - val_acc: 0.4667\n",
      "Epoch 10/10\n",
      "280/280 [==============================] - ETA: 0s - loss: 0.5993 - acc: 0.716 - 0s 214us/step - loss: 0.5926 - acc: 0.7250 - val_loss: 0.7255 - val_acc: 0.4667\n"
     ]
    },
    {
     "data": {
      "text/plain": [
       "<keras.callbacks.History at 0x1c2fcb6fc18>"
      ]
     },
     "execution_count": 6,
     "metadata": {},
     "output_type": "execute_result"
    }
   ],
   "source": [
    "#calculate the number of words\n",
    "nb_words=len(tokenizer.word_index)+1\n",
    "\n",
    "#obtain theembedding matrix\n",
    "embedding_matrix = np.zeros((nb_words, 200))\n",
    "for word, i in word_index.items():\n",
    "    embedding_vector = model.get(word)\n",
    "    if embedding_vector is not None:\n",
    "        embedding_matrix[i] = embedding_vector\n",
    "print('Null word embeddings: %d' % np.sum(np.sum(embedding_matrix, axis=1) == 0))\n",
    "\n",
    "trainy=np.array(trainy)\n",
    "validy=np.array(validy)\n",
    "\n",
    "#building a simple RNN model\n",
    "def modelbuild():\n",
    "    model = Sequential()\n",
    "    model.add(keras.layers.InputLayer(input_shape=(15,1)))\n",
    "    keras.layers.embeddings.Embedding(nb_words, 15, weights=[embedding_matrix], input_length=15,\n",
    "    trainable=False)\n",
    " \n",
    "    model.add(keras.layers.recurrent.SimpleRNN(units = 100, activation='relu',\n",
    "    use_bias=True))\n",
    "    model.add(keras.layers.Dense(units=1000, input_dim = 2000, activation='sigmoid'))\n",
    "    model.add(keras.layers.Dense(units=500, input_dim=1000, activation='relu'))\n",
    "    model.add(keras.layers.Dense(units=2, input_dim=500,activation='softmax'))\n",
    "    model.compile(loss='categorical_crossentropy', optimizer='adam', metrics=['accuracy'])\n",
    "    return model\n",
    "   \n",
    "#compiling the model\n",
    "finalmodel = modelbuild()\n",
    "finalmodel.fit(trainx, trainy, epochs=10, batch_size=120,validation_data=(validx,validy))"
   ]
  }
 ],
 "metadata": {
  "kernelspec": {
   "display_name": "Python 3",
   "language": "python",
   "name": "python3"
  },
  "language_info": {
   "codemirror_mode": {
    "name": "ipython",
    "version": 3
   },
   "file_extension": ".py",
   "mimetype": "text/x-python",
   "name": "python",
   "nbconvert_exporter": "python",
   "pygments_lexer": "ipython3",
   "version": "3.6.3"
  }
 },
 "nbformat": 4,
 "nbformat_minor": 2
}
