{
 "cells": [
  {
   "cell_type": "code",
   "execution_count": 1,
   "metadata": {
    "scrolled": true
   },
   "outputs": [
    {
     "name": "stderr",
     "output_type": "stream",
     "text": [
      "C:\\ProgramData\\Anaconda3\\lib\\site-packages\\h5py\\__init__.py:36: FutureWarning: Conversion of the second argument of issubdtype from `float` to `np.floating` is deprecated. In future, it will be treated as `np.float64 == np.dtype(float).type`.\n",
      "  from ._conv import register_converters as _register_converters\n",
      "Using TensorFlow backend.\n"
     ]
    }
   ],
   "source": [
    "# import all libraries\n",
    "import keras\n",
    "from keras.models import Sequential\n",
    "from keras.layers import Dense, Activation, Dropout\n",
    "from keras.layers.convolutional import Conv1D\n",
    "from keras.preprocessing.text import Tokenizer\n",
    "from keras.preprocessing.sequence import pad_sequences\n",
    "import pandas as pd\n",
    "import numpy as np\n",
    "import spacy"
   ]
  },
  {
   "cell_type": "code",
   "execution_count": 2,
   "metadata": {},
   "outputs": [],
   "source": [
    "ecg = pd.read_pickle(\"C:\\\\Users\\\\jquin\\\\Desktop\\\\RNN-Time-series-Anomaly-Detection\\\\dataset\\\\ecg\\\\labeled\\\\whole\\\\chfdb_chf01_275.pkl\")"
   ]
  },
  {
   "cell_type": "code",
   "execution_count": 4,
   "metadata": {},
   "outputs": [
    {
     "ename": "AttributeError",
     "evalue": "'list' object has no attribute 'plot'",
     "output_type": "error",
     "traceback": [
      "\u001b[1;31m---------------------------------------------------------------------------\u001b[0m",
      "\u001b[1;31mAttributeError\u001b[0m                            Traceback (most recent call last)",
      "\u001b[1;32m<ipython-input-4-881133acd770>\u001b[0m in \u001b[0;36m<module>\u001b[1;34m()\u001b[0m\n\u001b[1;32m----> 1\u001b[1;33m \u001b[0mecg\u001b[0m\u001b[1;33m.\u001b[0m\u001b[0mplot\u001b[0m\u001b[1;33m(\u001b[0m\u001b[1;33m)\u001b[0m\u001b[1;33m\u001b[0m\u001b[0m\n\u001b[0m\u001b[0;32m      2\u001b[0m \u001b[0mplt\u001b[0m\u001b[1;33m.\u001b[0m\u001b[0mplot\u001b[0m\u001b[1;33m(\u001b[0m\u001b[1;33m)\u001b[0m\u001b[1;33m\u001b[0m\u001b[0m\n",
      "\u001b[1;31mAttributeError\u001b[0m: 'list' object has no attribute 'plot'"
     ]
    }
   ],
   "source": []
  },
  {
   "cell_type": "code",
   "execution_count": 8,
   "metadata": {},
   "outputs": [],
   "source": [
    "# nlp=spacy.load(\"en\")\n",
    "\n",
    "#load the dataset\n",
    "train=pd.read_csv(\"../Datos/training.1600000.processed.noemoticon.csv\" , encoding= \"latin-1\")\n",
    "Y_train = train[train.columns[0]]\n",
    "X_train = train[train.columns[5]]\n",
    "\n",
    "# split the data into test and train\n",
    "from sklearn.model_selection import train_test_split\n",
    "trainset1x, trainset2x, trainset1y, trainset2y = train_test_split(X_train.values, Y_train.values, test_size=0.02,random_state=42 )\n",
    "trainset2y=pd.get_dummies(trainset2y)"
   ]
  },
  {
   "cell_type": "code",
   "execution_count": null,
   "metadata": {},
   "outputs": [],
   "source": [
    "#calculate the number of words\n",
    "nb_words=len(tokenizer.word_index)+1\n",
    "\n",
    "#obtain theembedding matrix\n",
    "embedding_matrix = np.zeros((nb_words, 200))\n",
    "for word, i in word_index.items():\n",
    "    embedding_vector = model.get(word)\n",
    "    if embedding_vector is not None:\n",
    "        embedding_matrix[i] = embedding_vector\n",
    "print('Null word embeddings: %d' % np.sum(np.sum(embedding_matrix, axis=1) == 0))"
   ]
  },
  {
   "cell_type": "code",
   "execution_count": 13,
   "metadata": {},
   "outputs": [
    {
     "name": "stdout",
     "output_type": "stream",
     "text": [
      "Null word embeddings: 346\n",
      "Train on 280 samples, validate on 120 samples\n",
      "Epoch 1/10\n",
      "280/280 [==============================] - ETA: 2s - loss: 0.7630 - acc: 0.575 - 2s 6ms/step - loss: 2.2334 - acc: 0.5321 - val_loss: 1.1028 - val_acc: 0.5083\n",
      "Epoch 2/10\n",
      "280/280 [==============================] - ETA: 0s - loss: 0.8978 - acc: 0.591 - 0s 396us/step - loss: 1.3683 - acc: 0.5321 - val_loss: 1.0130 - val_acc: 0.5083\n",
      "Epoch 3/10\n",
      "280/280 [==============================] - ETA: 0s - loss: 0.8545 - acc: 0.575 - 0s 396us/step - loss: 0.7666 - acc: 0.5679 - val_loss: 1.0273 - val_acc: 0.4917\n",
      "Epoch 4/10\n",
      "280/280 [==============================] - ETA: 0s - loss: 1.0266 - acc: 0.458 - 0s 410us/step - loss: 0.9365 - acc: 0.4643 - val_loss: 0.7159 - val_acc: 0.4917\n",
      "Epoch 5/10\n",
      "280/280 [==============================] - ETA: 0s - loss: 0.6274 - acc: 0.691 - 0s 410us/step - loss: 0.7003 - acc: 0.6071 - val_loss: 0.7891 - val_acc: 0.5167\n",
      "Epoch 6/10\n",
      "280/280 [==============================] - ETA: 0s - loss: 0.7227 - acc: 0.541 - 0s 371us/step - loss: 0.6860 - acc: 0.5679 - val_loss: 0.7165 - val_acc: 0.4833\n",
      "Epoch 7/10\n",
      "280/280 [==============================] - ETA: 0s - loss: 0.6549 - acc: 0.608 - 0s 400us/step - loss: 0.6640 - acc: 0.5821 - val_loss: 0.7453 - val_acc: 0.5083\n",
      "Epoch 8/10\n",
      "280/280 [==============================] - ETA: 0s - loss: 0.6556 - acc: 0.625 - 0s 435us/step - loss: 0.6574 - acc: 0.6071 - val_loss: 0.7269 - val_acc: 0.4917\n",
      "Epoch 9/10\n",
      "280/280 [==============================] - ETA: 0s - loss: 0.6201 - acc: 0.625 - 0s 428us/step - loss: 0.6311 - acc: 0.6071 - val_loss: 0.7382 - val_acc: 0.5000\n",
      "Epoch 10/10\n",
      "280/280 [==============================] - ETA: 0s - loss: 0.5866 - acc: 0.683 - 0s 428us/step - loss: 0.6190 - acc: 0.6500 - val_loss: 0.7342 - val_acc: 0.4500\n"
     ]
    },
    {
     "data": {
      "text/plain": [
       "<keras.callbacks.History at 0x18bfb4ec1d0>"
      ]
     },
     "execution_count": 13,
     "metadata": {},
     "output_type": "execute_result"
    }
   ],
   "source": [
    "trainy=np.array(trainy)\n",
    "validy=np.array(validy)\n",
    "\n",
    "#building a simple RNN model\n",
    "def modelbuild():\n",
    "    model = Sequential()\n",
    "    model.add(keras.layers.InputLayer(input_shape=(15,1)))\n",
    "    keras.layers.embeddings.Embedding(nb_words, 15, weights=[embedding_matrix], input_length=15,\n",
    "    trainable=False)\n",
    " \n",
    "    model.add(keras.layers.recurrent.SimpleRNN(units = 100, activation='relu',\n",
    "    use_bias=True))\n",
    "    model.add(keras.layers.Dense(units=1000, input_dim = 2000, activation='sigmoid'))\n",
    "    model.add(keras.layers.Dense(units=500, input_dim=1000, activation='relu'))\n",
    "    model.add(keras.layers.Dense(units=2, input_dim=500,activation='softmax'))\n",
    "    model.compile(loss='categorical_crossentropy', optimizer='adam', metrics=['accuracy'])\n",
    "    return model\n",
    "   \n",
    "#compiling the model\n",
    "finalmodel = modelbuild()\n",
    "finalmodel.fit(trainx, trainy, epochs=10, batch_size=120,validation_data=(validx,validy))"
   ]
  }
 ],
 "metadata": {
  "kernelspec": {
   "display_name": "Python 3",
   "language": "python",
   "name": "python3"
  },
  "language_info": {
   "codemirror_mode": {
    "name": "ipython",
    "version": 3
   },
   "file_extension": ".py",
   "mimetype": "text/x-python",
   "name": "python",
   "nbconvert_exporter": "python",
   "pygments_lexer": "ipython3",
   "version": "3.6.4"
  }
 },
 "nbformat": 4,
 "nbformat_minor": 2
}
