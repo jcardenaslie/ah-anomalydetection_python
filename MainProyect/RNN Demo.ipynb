{
 "cells": [
  {
   "cell_type": "code",
   "execution_count": 1,
   "metadata": {},
   "outputs": [
    {
     "name": "stderr",
     "output_type": "stream",
     "text": [
      "C:\\ProgramData\\Anaconda3\\lib\\site-packages\\h5py\\__init__.py:36: FutureWarning: Conversion of the second argument of issubdtype from `float` to `np.floating` is deprecated. In future, it will be treated as `np.float64 == np.dtype(float).type`.\n",
      "  from ._conv import register_converters as _register_converters\n",
      "Using TensorFlow backend.\n"
     ]
    }
   ],
   "source": [
    "# import all libraries\n",
    "import keras\n",
    "from keras.models import Sequential\n",
    "from keras.layers import Dense, Activation, Dropout\n",
    "from keras.layers.convolutional import Conv1D\n",
    "from keras.preprocessing.sequence import pad_sequences\n",
    "import pandas as pd\n",
    "import numpy as np\n",
    "import spacy\n",
    "from keras.layers.recurrent import LSTM\n"
   ]
  },
  {
   "cell_type": "code",
   "execution_count": 2,
   "metadata": {
    "collapsed": true
   },
   "outputs": [],
   "source": [
    "nlp=spacy.load(\"en\")\n",
    "\n",
    "#load the dataset\n",
    "train = pd.read_csv(\"../Datos/training.1600000.processed.noemoticon.csv\" , encoding= \"latin-1\")"
   ]
  },
  {
   "cell_type": "code",
   "execution_count": 3,
   "metadata": {},
   "outputs": [
    {
     "name": "stdout",
     "output_type": "stream",
     "text": [
      "(19999, 6)\n",
      "<class 'pandas.core.frame.DataFrame'>\n"
     ]
    }
   ],
   "source": [
    "print(train.shape)\n",
    "print(type(train))"
   ]
  },
  {
   "cell_type": "code",
   "execution_count": 4,
   "metadata": {
    "collapsed": true
   },
   "outputs": [],
   "source": [
    "Y_train = train[train.columns[0]]\n",
    "X_train = train[train.columns[5]]\n",
    "\n",
    "# split the data into test and train\n",
    "from sklearn.model_selection import train_test_split\n",
    "trainset1x, trainset2x, trainset1y, trainset2y = train_test_split(X_train.values, Y_train.values, test_size=0.02,random_state=42 )\n",
    "trainset2y=pd.get_dummies(trainset2y)"
   ]
  },
  {
   "cell_type": "code",
   "execution_count": 5,
   "metadata": {},
   "outputs": [
    {
     "name": "stdout",
     "output_type": "stream",
     "text": [
      "(19599,) (400,) (19599,) (400, 2)\n",
      "<class 'numpy.ndarray'> <class 'numpy.ndarray'> <class 'numpy.ndarray'> <class 'pandas.core.frame.DataFrame'>\n"
     ]
    }
   ],
   "source": [
    "print(trainset1x.shape, trainset2x.shape, trainset1y.shape, trainset2y.shape)\n",
    "print(type(trainset1x),type(trainset2x),type(trainset1y),type(trainset2y))"
   ]
  },
  {
   "cell_type": "code",
   "execution_count": 6,
   "metadata": {
    "collapsed": true
   },
   "outputs": [],
   "source": [
    "# function to remove stopwords\n",
    "def stopwords(sentence):\n",
    "    new=[]\n",
    "    sentence=nlp(sentence)\n",
    "    for w in sentence:\n",
    "        if (w.is_stop == False) & (w.pos_ !=\"PUNCT\"):\n",
    "            new.append(w.string.strip())\n",
    "        c=\" \".join(str(x) for x in new)\n",
    "    return c\n",
    "\n",
    "# function to lemmatize the tweets\n",
    "def lemmatize(sentence):\n",
    "    sentence=nlp(sentence)\n",
    "    str=\"\"\n",
    "    for w in sentence:\n",
    "        str+=\" \"+w.lemma_\n",
    "    return nlp(str)\n",
    "\n",
    "#loading the glove model\n",
    "def loadGloveModel(gloveFile):\n",
    "    print(\"Loading Glove Model\")\n",
    "    f = open(gloveFile,'r', encoding=\"utf8\")\n",
    "    model = {}\n",
    "    for line in f:\n",
    "        splitLine = line.split()\n",
    "        word = splitLine[0]\n",
    "        embedding = [float(val) for val in splitLine[1:]]\n",
    "        model[word] = embedding\n",
    "    print (\"Done.\"),len(model),(\" words loaded!\")\n",
    "    return model\n",
    "\n",
    "#vectorising the sentences\n",
    "def sent_vectorizer(sent, model):\n",
    "    sent_vec = np.zeros(200)\n",
    "    numw = 0\n",
    "    for w in sent.split():\n",
    "        try:\n",
    "            sent_vec = np.add(sent_vec, model[str(w)])\n",
    "            numw+=1\n",
    "        except:\n",
    "            pass\n",
    "    return sent_vec"
   ]
  },
  {
   "cell_type": "code",
   "execution_count": 7,
   "metadata": {},
   "outputs": [
    {
     "name": "stdout",
     "output_type": "stream",
     "text": [
      "Loading Glove Model\n"
     ]
    },
    {
     "ename": "FileNotFoundError",
     "evalue": "[Errno 2] No such file or directory: 'C:\\\\Users\\\\jquin\\\\Downloads\\\\glove.twitter.27B\\\\glove.twitter.27B.200d.txt'",
     "output_type": "error",
     "traceback": [
      "\u001b[1;31m---------------------------------------------------------------------------\u001b[0m",
      "\u001b[1;31mFileNotFoundError\u001b[0m                         Traceback (most recent call last)",
      "\u001b[1;32m<ipython-input-7-416d0f56822f>\u001b[0m in \u001b[0;36m<module>\u001b[1;34m()\u001b[0m\n\u001b[0;32m      1\u001b[0m \u001b[1;31m# save the glove model\u001b[0m\u001b[1;33m\u001b[0m\u001b[1;33m\u001b[0m\u001b[0m\n\u001b[1;32m----> 2\u001b[1;33m \u001b[0mmodel\u001b[0m\u001b[1;33m=\u001b[0m\u001b[0mloadGloveModel\u001b[0m\u001b[1;33m(\u001b[0m\u001b[1;34m\"C:\\\\Users\\\\jquin\\\\Downloads\\\\glove.twitter.27B\\\\glove.twitter.27B.200d.txt\"\u001b[0m\u001b[1;33m)\u001b[0m\u001b[1;33m\u001b[0m\u001b[0m\n\u001b[0m",
      "\u001b[1;32m<ipython-input-6-28f70dbb4923>\u001b[0m in \u001b[0;36mloadGloveModel\u001b[1;34m(gloveFile)\u001b[0m\n\u001b[0;32m     20\u001b[0m \u001b[1;32mdef\u001b[0m \u001b[0mloadGloveModel\u001b[0m\u001b[1;33m(\u001b[0m\u001b[0mgloveFile\u001b[0m\u001b[1;33m)\u001b[0m\u001b[1;33m:\u001b[0m\u001b[1;33m\u001b[0m\u001b[0m\n\u001b[0;32m     21\u001b[0m     \u001b[0mprint\u001b[0m\u001b[1;33m(\u001b[0m\u001b[1;34m\"Loading Glove Model\"\u001b[0m\u001b[1;33m)\u001b[0m\u001b[1;33m\u001b[0m\u001b[0m\n\u001b[1;32m---> 22\u001b[1;33m     \u001b[0mf\u001b[0m \u001b[1;33m=\u001b[0m \u001b[0mopen\u001b[0m\u001b[1;33m(\u001b[0m\u001b[0mgloveFile\u001b[0m\u001b[1;33m,\u001b[0m\u001b[1;34m'r'\u001b[0m\u001b[1;33m,\u001b[0m \u001b[0mencoding\u001b[0m\u001b[1;33m=\u001b[0m\u001b[1;34m\"utf8\"\u001b[0m\u001b[1;33m)\u001b[0m\u001b[1;33m\u001b[0m\u001b[0m\n\u001b[0m\u001b[0;32m     23\u001b[0m     \u001b[0mmodel\u001b[0m \u001b[1;33m=\u001b[0m \u001b[1;33m{\u001b[0m\u001b[1;33m}\u001b[0m\u001b[1;33m\u001b[0m\u001b[0m\n\u001b[0;32m     24\u001b[0m     \u001b[1;32mfor\u001b[0m \u001b[0mline\u001b[0m \u001b[1;32min\u001b[0m \u001b[0mf\u001b[0m\u001b[1;33m:\u001b[0m\u001b[1;33m\u001b[0m\u001b[0m\n",
      "\u001b[1;31mFileNotFoundError\u001b[0m: [Errno 2] No such file or directory: 'C:\\\\Users\\\\jquin\\\\Downloads\\\\glove.twitter.27B\\\\glove.twitter.27B.200d.txt'"
     ]
    }
   ],
   "source": [
    "# save the glove model\n",
    "model=loadGloveModel(\"C:\\\\Users\\\\jquin\\\\Downloads\\\\glove.twitter.27B\\\\glove.twitter.27B.200d.txt\")\n"
   ]
  },
  {
   "cell_type": "code",
   "execution_count": null,
   "metadata": {},
   "outputs": [],
   "source": [
    "print(type(model))"
   ]
  },
  {
   "cell_type": "code",
   "execution_count": null,
   "metadata": {},
   "outputs": [],
   "source": [
    "#obtain a clean vector\n",
    "cleanvector=[]\n",
    "\n",
    "# cleaning document i (tweet(?))\n",
    "for i in range(trainset2x.shape[0]):\n",
    "    document=trainset2x[i]\n",
    "    document=document.lower()\n",
    "    document=lemmatize(document)\n",
    "    document=str(document)\n",
    "    cleanvector.append(sent_vectorizer(document,model))\n",
    "\n",
    "#Getting the input and output in proper shape\n",
    "cleanvector=np.array(cleanvector)\n",
    "cleanvector =cleanvector.reshape(len(cleanvector),200,1)\n",
    "\n",
    "from keras.preprocessing.text import Tokenizer\n",
    "#tokenizing the sequences\n",
    "tokenizer = Tokenizer(num_words=16000)\n",
    "tokenizer.fit_on_texts(trainset2x)\n",
    "sequences = tokenizer.texts_to_sequences(trainset2x)\n",
    "word_index = tokenizer.word_index\n",
    "print('Found %s unique tokens.' % len(word_index))\n",
    "\n",
    "from keras.preprocessing.sequence import pad_sequences\n",
    "data = pad_sequences(sequences, maxlen=15, padding=\"post\")\n",
    "print(data.shape)\n",
    "\n",
    "#reshape the data and preparing to train\n",
    "data=data.reshape(len(cleanvector),15,1)\n",
    "from sklearn.model_selection import train_test_split\n",
    "trainx, validx, trainy, validy = train_test_split(data, trainset2y, test_size=0.3,random_state=42 )"
   ]
  },
  {
   "cell_type": "code",
   "execution_count": null,
   "metadata": {},
   "outputs": [],
   "source": [
    "#calculate the number of words\n",
    "nb_words=len(tokenizer.word_index)+1\n",
    "\n",
    "#obtain theembedding matrix\n",
    "embedding_matrix = np.zeros((nb_words, 200))\n",
    "for word, i in word_index.items():\n",
    "    embedding_vector = model.get(word)\n",
    "    if embedding_vector is not None:\n",
    "        embedding_matrix[i] = embedding_vector\n",
    "print('Null word embeddings: %d' % np.sum(np.sum(embedding_matrix, axis=1) == 0))\n",
    "\n",
    "trainy=np.array(trainy)\n",
    "validy=np.array(validy)"
   ]
  },
  {
   "cell_type": "code",
   "execution_count": null,
   "metadata": {},
   "outputs": [],
   "source": [
    "print(nb_words)"
   ]
  },
  {
   "cell_type": "code",
   "execution_count": null,
   "metadata": {},
   "outputs": [],
   "source": [
    "print(type(trainx))\n",
    "print(type(trainy))\n",
    "print(trainx.shape)\n",
    "print(trainy.shape)"
   ]
  },
  {
   "cell_type": "code",
   "execution_count": null,
   "metadata": {
    "collapsed": true
   },
   "outputs": [],
   "source": [
    "#"
   ]
  },
  {
   "cell_type": "code",
   "execution_count": null,
   "metadata": {},
   "outputs": [],
   "source": [
    "#building a simple RNN model\n",
    "def modelbuild():\n",
    "    model = Sequential()\n",
    "    model.add(keras.layers.InputLayer(input_shape=(15,1)))\n",
    "    keras.layers.embeddings.Embedding(nb_words, 15, weights=[embedding_matrix], input_length=15,\n",
    "    trainable=False)\n",
    " \n",
    "    model.add(keras.layers.recurrent.SimpleRNN(units = 100, activation='relu',\n",
    "    use_bias=True))\n",
    "    model.add(keras.layers.Dense(units=1000, input_dim = 2000, activation='sigmoid'))\n",
    "    model.add(keras.layers.Dense(units=500, input_dim=1000, activation='relu'))\n",
    "    model.add(keras.layers.Dense(units=2, input_dim=500,activation='softmax'))\n",
    "    model.compile(loss='categorical_crossentropy', optimizer='adam', metrics=['accuracy'])\n",
    "    return model\n",
    "   \n",
    "#compiling the model\n",
    "finalmodel = modelbuild()\n",
    "finalmodel.fit(trainx, trainy, epochs=10, batch_size=120,validation_data=(validx,validy))"
   ]
  }
 ],
 "metadata": {
  "kernelspec": {
   "display_name": "Python 3",
   "language": "python",
   "name": "python3"
  },
  "language_info": {
   "codemirror_mode": {
    "name": "ipython",
    "version": 3
   },
   "file_extension": ".py",
   "mimetype": "text/x-python",
   "name": "python",
   "nbconvert_exporter": "python",
   "pygments_lexer": "ipython3",
   "version": "3.6.4"
  }
 },
 "nbformat": 4,
 "nbformat_minor": 2
}
